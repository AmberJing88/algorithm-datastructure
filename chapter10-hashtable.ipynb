{
 "cells": [
  {
   "cell_type": "markdown",
   "metadata": {},
   "source": [
    "# binary class and examples"
   ]
  },
  {
   "cell_type": "code",
   "execution_count": 14,
   "metadata": {},
   "outputs": [],
   "source": [
    "#------------leetcode 1 -----------------\n",
    "\"\"\"two sum:given an array of integers return indices of the two numbers such that they add up to \n",
    "specific target.\"\"\"\n",
    "def twosum(nums, target):\n",
    "    d = {}\n",
    "    for i, e in enumerate(nums):\n",
    "        if target-e in d:\n",
    "            return [i, d[target-e]]\n",
    "        d[e] = i\n",
    "    return []"
   ]
  },
  {
   "cell_type": "code",
   "execution_count": 2,
   "metadata": {},
   "outputs": [],
   "source": [
    "#-------------leetcode 217---------\n",
    "\"\"\"contains duplicates: given an array of integers, find if the array contains any duplicate. the\n",
    "function should return true if any value appears at least twice in the array, and it should return \n",
    "false if every element is distinct.\"\"\"\n",
    "def containDuplicates(nums):\n",
    "    d = {}\n",
    "    for i, e in enumerate(nums):\n",
    "        if e in d:\n",
    "            return True\n",
    "        d[e] = i\n",
    "        \n",
    "    return False"
   ]
  },
  {
   "cell_type": "code",
   "execution_count": 4,
   "metadata": {},
   "outputs": [],
   "source": [
    "#method 2\n",
    "def contain(nums):\n",
    "    return len(set(nums)) != len(nums)\n",
    "    return True if len(set(nums)) < len(nums) else False"
   ]
  },
  {
   "cell_type": "code",
   "execution_count": 13,
   "metadata": {},
   "outputs": [],
   "source": [
    "#------------leetcode 594-----------------\n",
    "\"\"\"longest harmonious subsquence: define a harmounious array as an array where the difference between\n",
    "its maximum value and its minimum value is exactly 1\"\"\" \n",
    "# Time: O(n), Space:O(n)\n",
    "from collections import Counter\n",
    "def findHS(nums):\n",
    "    frequence = Counter(nums)\n",
    "    max_fre = 0\n",
    "    for num, cnt in frequence.items():\n",
    "        if num-1 in frequence:\n",
    "            max_fre = max(max_fre, cnt+frequence[num-1])\n",
    "    return max_fre"
   ]
  },
  {
   "cell_type": "code",
   "execution_count": 11,
   "metadata": {},
   "outputs": [
    {
     "data": {
      "text/plain": [
       "dict_items([('h', 1), ('e', 1), ('l', 2), ('o', 1)])"
      ]
     },
     "execution_count": 11,
     "metadata": {},
     "output_type": "execute_result"
    }
   ],
   "source": [
    "fre= Counter(\"hello\")\n",
    "fre.items()"
   ]
  },
  {
   "cell_type": "code",
   "execution_count": 16,
   "metadata": {},
   "outputs": [],
   "source": [
    "#---------leetcode 128-------------\n",
    "\"\"\"longest consecutive sequence: given an unsorted array of integers, find the length of the lo\n",
    "ngest consecutive elements sequence. Note O(n) time.\"\"\"\n",
    "def longestConsecutive(nums):\n",
    "    longest = 0\n",
    "    num_set = set(nums)\n",
    "    for num in num_set:\n",
    "        if num-1 not in num_set:\n",
    "            current_num = num\n",
    "            current_streak = 1\n",
    "            while current_num+1 in num_set:\n",
    "                current_num += 1\n",
    "                current_streak += 1\n",
    "            longest = max(longest, current_streak)\n",
    "    return longest"
   ]
  },
  {
   "cell_type": "code",
   "execution_count": 17,
   "metadata": {},
   "outputs": [],
   "source": [
    "# method 2\n",
    "def longest(nums):\n",
    "    nums = set(nums)\n",
    "    maxlen = 0\n",
    "    while nums:\n",
    "        first = last = nums.pop()\n",
    "        while first -1 in nums:\n",
    "            first -= 1\n",
    "            nums.remove(first)\n",
    "        while last+1 in nums:\n",
    "            last += 1\n",
    "            nums.remove(last)\n",
    "        maxlen= max(maxlen, last - first +1)\n",
    "    return maxlen"
   ]
  },
  {
   "cell_type": "code",
   "execution_count": null,
   "metadata": {},
   "outputs": [],
   "source": []
  }
 ],
 "metadata": {
  "kernelspec": {
   "display_name": "Python 3",
   "language": "python",
   "name": "python3"
  },
  "language_info": {
   "codemirror_mode": {
    "name": "ipython",
    "version": 3
   },
   "file_extension": ".py",
   "mimetype": "text/x-python",
   "name": "python",
   "nbconvert_exporter": "python",
   "pygments_lexer": "ipython3",
   "version": "3.7.4"
  }
 },
 "nbformat": 4,
 "nbformat_minor": 2
}
