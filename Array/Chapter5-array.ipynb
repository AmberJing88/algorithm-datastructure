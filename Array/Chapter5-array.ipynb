{
 "cells": [
  {
   "cell_type": "markdown",
   "metadata": {},
   "source": [
    "# chapter 5 Array examples and problems solution"
   ]
  },
  {
   "cell_type": "markdown",
   "metadata": {},
   "source": [
    "## dynamic Array Class"
   ]
  },
  {
   "cell_type": "code",
   "execution_count": 18,
   "metadata": {},
   "outputs": [],
   "source": [
    "import ctypes\n",
    "\n",
    "class DynamicArray:\n",
    "    \"\"\"\n",
    "    a dynamic array class akin to a simplified python list.\"\"\"\n",
    "    \n",
    "    def __init__(self):\n",
    "        self._n = 0\n",
    "        self._capacity = 1\n",
    "        self._A = self._make_array(self._capacity)\n",
    "        \n",
    "    def __len__(self):\n",
    "        return self._n\n",
    "    \n",
    "    def __getitem__(self, k):\n",
    "        \"\"\"return element at index k\"\"\"\n",
    "        if not 0<= k < self._n:\n",
    "            raise IndexError('invalud index')\n",
    "        return self._A[k]\n",
    "    \n",
    "    def append(self, obj):\n",
    "        if self._n ==self._capacity:\n",
    "            self._resize(2*self._capacity)\n",
    "        self._A[self._n] = obj\n",
    "        self._n +=1\n",
    "        \n",
    "    def _insert_resize(self, k, c):    #R-5.6\n",
    "        B = self._make_array(c)\n",
    "        for i in range(self._n):\n",
    "            if i<k:\n",
    "                B[i] = self._A[i]\n",
    "            else:\n",
    "                B[i+1] = self.A[i]\n",
    "        self._A = B\n",
    "        self._capacity = c\n",
    "        \n",
    "    def _make_array(self,c):\n",
    "        \"\"\"return new array with capacity c\"\"\"\n",
    "        return (c * ctypes.py.object)()\n",
    "    \n",
    "    def insert(self, k, value):\n",
    "        if self._n == self._capacity:\n",
    "            self._resize(2*self._capacity)\n",
    "        for j in range(self._n, k, -1):\n",
    "            self._A[j] = self._A[j-1]\n",
    "        self._A[k] = value\n",
    "        self._n += 1\n",
    "        \n",
    "    def remove(self, value):\n",
    "        for k in range(self._n):\n",
    "            if self._A[k] == value:\n",
    "                for j in range(k, self._n-1):\n",
    "                    self._A[j] = self._A[j+1]\n",
    "                self._A[self._n-1] = None\n",
    "                self._n -= 1\n",
    "                return\n",
    "        raise ValueError('value not found')\n",
    "        \n",
    "        \n",
    "    #-----------C-5.16-------------------\n",
    "    def pop_shrink(self):\n",
    "        \"\"\"remove the last element of array and shrink the capacity if n< N/4\"\"\"\n",
    "        if self._n ==0: \n",
    "            raise IndexError(\"empty list\")\n",
    "        ele = self[self._n-1]\n",
    "        if self._n < (self._capacity/4):\n",
    "            self.resize(self._capacity//2)\n",
    "        return ele\n",
    "    \n",
    "        "
   ]
  },
  {
   "cell_type": "markdown",
   "metadata": {},
   "source": [
    "## caesar cipher class"
   ]
  },
  {
   "cell_type": "code",
   "execution_count": 2,
   "metadata": {},
   "outputs": [
    {
     "name": "stdout",
     "output_type": "stream",
     "text": [
      "SECRET:  WKH HDJOH LV LQ SODB: PHHW DW MRH'V\n",
      "MESSAGE:  THE EAGLE IS IN PLAY: MEET AT JOE'S\n"
     ]
    }
   ],
   "source": [
    "class CaesarCipher:\n",
    "    \n",
    "    def __init__(self, shift):\n",
    "        \"\"\"construct the caesar cipher using the giaven integer shift for rotation.\"\"\"\n",
    "        encoder = [None] * 26\n",
    "        decoder = [None] *26\n",
    "        for k in range(26):\n",
    "            encoder[k] = chr((k+shift)% 26 +ord('A'))\n",
    "            decoder[k] = chr((k-shift) %26 +ord('A'))\n",
    "        self._forward = ''.join(encoder)\n",
    "        self._backward = ''.join(decoder)\n",
    "        \n",
    "    def encrypt(self, message):\n",
    "        return self._transform(message, self._forward)\n",
    "    \n",
    "    def decrypt(self, secret):\n",
    "        return self._transform(secret, self._backward)\n",
    "    \n",
    "    def _transform(self, original, code):\n",
    "        mes = list(original)\n",
    "        for k in range(len(mes)):\n",
    "            if mes[k].isupper():\n",
    "                j = ord(mes[k]) - ord(\"A\")\n",
    "                mes[k] = code[j]\n",
    "        return ''.join(mes)\n",
    "    \n",
    "if __name__ == '__main__':\n",
    "    cipher = CaesarCipher(3)\n",
    "    message = \"THE EAGLE IS IN PLAY: MEET AT JOE'S\"\n",
    "    coded = cipher.encrypt(message)\n",
    "    print('SECRET: ', coded)\n",
    "    answer = cipher.decrypt(coded)\n",
    "    print('MESSAGE: ', answer)\n"
   ]
  },
  {
   "cell_type": "markdown",
   "metadata": {},
   "source": [
    "## problems solution"
   ]
  },
  {
   "cell_type": "code",
   "execution_count": 14,
   "metadata": {},
   "outputs": [
    {
     "data": {
      "text/plain": [
       "2"
      ]
     },
     "execution_count": 14,
     "metadata": {},
     "output_type": "execute_result"
    }
   ],
   "source": [
    "# ---------------R-5.7------------\n",
    "def FindDuplicate(A):\n",
    "    \"\"\"input A is a list in clude numbers 1~n-1 and a duplicate\"\"\"\n",
    "    \n",
    "    check = [None] * len(A)\n",
    "    for i in A:\n",
    "        if check[i] :\n",
    "            return i\n",
    "        check[i] = 1\n",
    "    return('No duplicate found')\n",
    "\n",
    "FindDuplicate([5, 2, 1, 4, 3, 2])    "
   ]
  },
  {
   "cell_type": "code",
   "execution_count": 15,
   "metadata": {},
   "outputs": [
    {
     "data": {
      "text/plain": [
       "'\\nfor i in range(n):\\n    for j in range(n)\\n    \\nsum(sum(i) for i in range(n))'"
      ]
     },
     "execution_count": 15,
     "metadata": {},
     "output_type": "execute_result"
    }
   ],
   "source": [
    "#--------R-5.11 and R-5.12---------------\n",
    "\"\"\"\n",
    "for i in range(n):\n",
    "    for j in range(n)\n",
    "    \n",
    "sum(sum(i) for i in range(n))\"\"\""
   ]
  },
  {
   "cell_type": "code",
   "execution_count": 17,
   "metadata": {},
   "outputs": [
    {
     "name": "stdout",
     "output_type": "stream",
     "text": [
      "count of 0 is: 10146 /t 10.15%\n",
      "count of 1 is: 10101 /t 10.10%\n",
      "count of 2 is: 10036 /t 10.04%\n",
      "count of 3 is: 9884 /t 9.88%\n",
      "count of 4 is: 9967 /t 9.97%\n",
      "count of 5 is: 9988 /t 9.99%\n",
      "count of 6 is: 9980 /t 9.98%\n",
      "count of 7 is: 10032 /t 10.03%\n",
      "count of 8 is: 9916 /t 9.92%\n",
      "count of 9 is: 9950 /t 9.95%\n"
     ]
    }
   ],
   "source": [
    "#-----------C-5.14-------------\n",
    "import random\n",
    "def new_shuffle(array):\n",
    "    for i in range(len(array)):\n",
    "        index = random.randrange(len(array)-i)+i\n",
    "        array[i], array[index] = array[index], array[i]\n",
    "    return (a)\n",
    "\n",
    "a = [1,2,3,4,5,6,7,8,9,0]\n",
    "new_shuffle(a)\n",
    "total_ints =[]\n",
    "n_tests = 100000\n",
    "for _ in range(n_tests):\n",
    "    new_shuffle(a)\n",
    "    total_ints.append(a[0])\n",
    "    \n",
    "for i in range(10):\n",
    "    print(f'count of {i} is: {total_ints.count(i)} /t {(total_ints.count(i)/n_tests *100):.2f}%')"
   ]
  },
  {
   "cell_type": "code",
   "execution_count": 19,
   "metadata": {},
   "outputs": [],
   "source": [
    "#---------------C-5.26--------------\n",
    "def find_5_duels(B):\n",
    "    duel = []\n",
    "    checked = []\n",
    "    for e in B:\n",
    "        if e in checked:\n",
    "            duel.append(e)\n",
    "        checked.append(e)\n",
    "    return duel\n",
    "        \n",
    "        "
   ]
  },
  {
   "cell_type": "code",
   "execution_count": 20,
   "metadata": {},
   "outputs": [],
   "source": [
    "#------------------C-5.27-----------\n",
    "\"\"\"k=[logn]+1 为表示 binary system express numbers\"\"\"\n",
    "def search_k():\n",
    "    pass"
   ]
  },
  {
   "cell_type": "code",
   "execution_count": null,
   "metadata": {},
   "outputs": [],
   "source": []
  }
 ],
 "metadata": {
  "kernelspec": {
   "display_name": "Python 3",
   "language": "python",
   "name": "python3"
  },
  "language_info": {
   "codemirror_mode": {
    "name": "ipython",
    "version": 3
   },
   "file_extension": ".py",
   "mimetype": "text/x-python",
   "name": "python",
   "nbconvert_exporter": "python",
   "pygments_lexer": "ipython3",
   "version": "3.7.4"
  }
 },
 "nbformat": 4,
 "nbformat_minor": 2
}
